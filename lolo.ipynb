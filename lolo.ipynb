{
 "cells": [
  {
   "cell_type": "code",
   "execution_count": 1,
   "metadata": {},
   "outputs": [],
   "source": [
    "import matplotlib.pyplot as plt\n",
    "import matplotlib\n",
    "matplotlib.use('Agg')\n",
    "import matplotlib.pyplot as plt\n"
   ]
  },
  {
   "cell_type": "code",
   "execution_count": 5,
   "metadata": {},
   "outputs": [],
   "source": [
    "\n",
    "\n",
    "def create_graph(responses):\n",
    "    \"\"\"\n",
    "    Create a bar graph visualizing quiz results.\n",
    "\n",
    "    Parameters:\n",
    "    - responses (list): A list of tuples where each tuple contains \n",
    "      (question, answer, is_correct) for each quiz response.\n",
    "\n",
    "    Returns:\n",
    "    None. Displays a matplotlib figure.\n",
    "    \"\"\"\n",
    "    # Count correct and incorrect answers\n",
    "    correct_count = sum(1 for _, _, correct in responses if correct)\n",
    "    incorrect_count = len(responses) - correct_count\n",
    "\n",
    "    # Data for the graph\n",
    "    labels = ['Correct', 'Incorrect']\n",
    "    counts = [correct_count, incorrect_count]\n",
    "\n",
    "    # Create the graph\n",
    "    fig, ax = plt.subplots(figsize=(6, 6))\n",
    "    ax.bar(labels, counts, color=['green', 'red'])\n",
    "    ax.set_title('Quiz Results')\n",
    "    ax.set_ylabel('Number of Answers')\n",
    "    ax.set_xlabel('Answer Type')\n",
    "\n",
    "    # Show the graph\n",
    "    plt.show()\n",
    "\n",
    "# Uncomment the following lines if you want to run this script directly:\n",
    "# if __name__ == \"__main__\":\n",
    "#     responses = stock_knowledge_quiz()  # Assuming this function exists\n",
    "#     analyze_results(responses)          # Assuming this function exists\n",
    "#     create_graph(responses)"
   ]
  }
 ],
 "metadata": {
  "kernelspec": {
   "display_name": "Python 3",
   "language": "python",
   "name": "python3"
  },
  "language_info": {
   "codemirror_mode": {
    "name": "ipython",
    "version": 3
   },
   "file_extension": ".py",
   "mimetype": "text/x-python",
   "name": "python",
   "nbconvert_exporter": "python",
   "pygments_lexer": "ipython3",
   "version": "3.11.9"
  }
 },
 "nbformat": 4,
 "nbformat_minor": 2
}
