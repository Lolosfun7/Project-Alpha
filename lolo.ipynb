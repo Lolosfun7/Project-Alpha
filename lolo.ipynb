{
 "cells": [
  {
   "cell_type": "code",
   "execution_count": 1,
   "metadata": {},
   "outputs": [],
   "source": [
    "import matplotlib.pyplot as plt\n",
    "import matplotlib\n",
    "matplotlib.use('Agg')\n",
    "import matplotlib.pyplot as plt\n"
   ]
  },
  {
   "cell_type": "code",
   "execution_count": 2,
   "metadata": {},
   "outputs": [],
   "source": [
    "\n",
    "\n",
    "def create_graph(responses):\n",
    "    # Count correct and incorrect answers\n",
    "    correct_count = sum(1 for _, _, correct in responses if correct)\n",
    "    incorrect_count = len(responses) - correct_count\n",
    "\n",
    "    # Data for the graph\n",
    "    labels = ['Correct', 'Incorrect']\n",
    "    counts = [correct_count, incorrect_count]\n",
    "\n",
    "    # Create the graph\n",
    "    plt.figure(figsize=(6, 6))\n",
    "    plt.bar(labels, counts, color=['green', 'red'])\n",
    "    plt.title('Quiz Results')\n",
    "    plt.ylabel('Number of Answers')\n",
    "    plt.xlabel('Answer Type')\n",
    "\n",
    "    # Show the graph\n",
    "    plt.show()\n",
    "\n",
    " #if __name__ == \"__main__\":\n",
    "   # responses = stock_knowledge_quiz()\n",
    "  #  analyze_results(responses)\n",
    "  #  create_graph(responses)"
   ]
  }
 ],
 "metadata": {
  "kernelspec": {
   "display_name": "Python 3",
   "language": "python",
   "name": "python3"
  },
  "language_info": {
   "codemirror_mode": {
    "name": "ipython",
    "version": 3
   },
   "file_extension": ".py",
   "mimetype": "text/x-python",
   "name": "python",
   "nbconvert_exporter": "python",
   "pygments_lexer": "ipython3",
   "version": "3.11.9"
  }
 },
 "nbformat": 4,
 "nbformat_minor": 2
}
