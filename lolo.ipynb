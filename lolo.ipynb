import matplotlib.pyplot as plt
import matplotlib
matplotlib.use('Agg')
import matplotlib.pyplot as plt

def create_graph(responses):
    # Count correct and incorrect answers
    correct_count = sum(1 for _, _, correct in responses if correct)
    incorrect_count = len(responses) - correct_count

    # Data for the graph
    labels = ['Correct', 'Incorrect']
    counts = [correct_count, incorrect_count]

    # Create the graph
    plt.figure(figsize=(6, 6))
    plt.bar(labels, counts, color=['green', 'red'])
    plt.title('Quiz Results')
    plt.ylabel('Number of Answers')
    plt.xlabel('Answer Type')

    # Show the graph
    plt.show()

if __name__ == "__main__":
    responses = stock_knowledge_quiz()
    analyze_results(responses)
    create_graph(responses)
