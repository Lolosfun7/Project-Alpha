{
 "cells": [
  {
   "cell_type": "code",
   "execution_count": 4,
   "metadata": {},
   "outputs": [
    {
     "ename": "NameError",
     "evalue": "name 'stock_knowledge_quiz' is not defined",
     "output_type": "error",
     "traceback": [
      "\u001b[1;31m---------------------------------------------------------------------------\u001b[0m",
      "\u001b[1;31mNameError\u001b[0m                                 Traceback (most recent call last)",
      "Cell \u001b[1;32mIn[4], line 23\u001b[0m\n\u001b[0;32m     20\u001b[0m     plt\u001b[38;5;241m.\u001b[39mshow()\n\u001b[0;32m     22\u001b[0m \u001b[38;5;28;01mif\u001b[39;00m \u001b[38;5;18m__name__\u001b[39m \u001b[38;5;241m==\u001b[39m \u001b[38;5;124m\"\u001b[39m\u001b[38;5;124m__main__\u001b[39m\u001b[38;5;124m\"\u001b[39m:\n\u001b[1;32m---> 23\u001b[0m     responses \u001b[38;5;241m=\u001b[39m stock_knowledge_quiz()\n\u001b[0;32m     24\u001b[0m     analyze_results(responses)\n\u001b[0;32m     25\u001b[0m     create_graph(responses)\n",
      "\u001b[1;31mNameError\u001b[0m: name 'stock_knowledge_quiz' is not defined"
     ]
    }
   ],
   "source": [
    "import matplotlib.pyplot as plt\n",
    "\n",
    "def create_graph(responses):\n",
    "    # Count correct and incorrect answers\n",
    "    correct_count = sum(1 for _, _, correct in responses if correct)\n",
    "    incorrect_count = len(responses) - correct_count\n",
    "\n",
    "    # Data for the graph\n",
    "    labels = ['Correct', 'Incorrect']\n",
    "    counts = [correct_count, incorrect_count]\n",
    "\n",
    "    # Create the graph\n",
    "    plt.figure(figsize=(6, 6))\n",
    "    plt.bar(labels, counts, color=['green', 'red'])\n",
    "    plt.title('Quiz Results')\n",
    "    plt.ylabel('Number of Answers')\n",
    "    plt.xlabel('Answer Type')\n",
    "\n",
    "    # Show the graph\n",
    "    plt.show()\n",
    "\n",
    "if __name__ == \"__main__\":\n",
    "    responses = stock_knowledge_quiz()\n",
    "    analyze_results(responses)\n",
    "    create_graph(responses)\n"
   ]
  }
 ],
 "metadata": {
  "kernelspec": {
   "display_name": "base",
   "language": "python",
   "name": "python3"
  },
  "language_info": {
   "codemirror_mode": {
    "name": "ipython",
    "version": 3
   },
   "file_extension": ".py",
   "mimetype": "text/x-python",
   "name": "python",
   "nbconvert_exporter": "python",
   "pygments_lexer": "ipython3",
   "version": "3.12.7"
  }
 },
 "nbformat": 4,
 "nbformat_minor": 2
}
