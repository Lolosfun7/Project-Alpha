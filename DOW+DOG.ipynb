{
 "cells": [
  {
   "cell_type": "code",
   "execution_count": null,
   "metadata": {
    "vscode": {
     "languageId": "plaintext"
    }
   },
   "outputs": [],
   "source": [
    "# Import necessary libraries\n",
    "import yfinance as yf\n",
    "import matplotlib.pyplot as plt\n",
    "import pandas as pd"
   ]
  },
  {
   "cell_type": "code",
   "execution_count": null,
   "metadata": {
    "vscode": {
     "languageId": "plaintext"
    }
   },
   "outputs": [],
   "source": [
    "# Define the tickers and date range\n",
    "tickers = [\"DOW\", \"DOG\"]\n",
    "start_date = \"2020-03-01\"\n",
    "end_date = \"2020-03-30\"\n",
    "\n",
    "# Download data for both tickers\n",
    "data = yf.download(tickers, start=start_date, end=end_date, group_by=\"ticker\", progress=False)\n",
    "\n",
    "# Extract \"Close\" prices\n",
    "dow_data = data.loc[:, ('DOW', 'Close')]\n",
    "dog_data = data.loc[:, ('DOW', 'Close')]\n",
    "\n",
    "# Debugging: Print first few rows\n",
    "print(dow_data.head())\n",
    "print(dog_data.head())"
   ]
  },
  {
   "cell_type": "code",
   "execution_count": null,
   "metadata": {
    "vscode": {
     "languageId": "plaintext"
    }
   },
   "outputs": [],
   "source": []
  },
  {
   "cell_type": "code",
   "execution_count": null,
   "metadata": {
    "vscode": {
     "languageId": "plaintext"
    }
   },
   "outputs": [],
   "source": []
  }
 ],
 "metadata": {
  "language_info": {
   "name": "python"
  }
 },
 "nbformat": 4,
 "nbformat_minor": 2
}
