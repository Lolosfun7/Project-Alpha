{
 "cells": [
  {
   "cell_type": "code",
   "execution_count": 30,
   "metadata": {},
   "outputs": [
    {
     "name": "stdout",
     "output_type": "stream",
     "text": [
      "Requirement already satisfied: python-pptx in c:\\users\\sirja\\appdata\\local\\programs\\python\\python313\\lib\\site-packages (1.0.2)\n",
      "Requirement already satisfied: Pillow>=3.3.2 in c:\\users\\sirja\\appdata\\local\\programs\\python\\python313\\lib\\site-packages (from python-pptx) (11.1.0)\n",
      "Requirement already satisfied: XlsxWriter>=0.5.7 in c:\\users\\sirja\\appdata\\local\\programs\\python\\python313\\lib\\site-packages (from python-pptx) (3.2.1)\n",
      "Requirement already satisfied: lxml>=3.1.0 in c:\\users\\sirja\\appdata\\local\\programs\\python\\python313\\lib\\site-packages (from python-pptx) (5.3.0)\n",
      "Requirement already satisfied: typing-extensions>=4.9.0 in c:\\users\\sirja\\appdata\\local\\programs\\python\\python313\\lib\\site-packages (from python-pptx) (4.12.2)\n",
      "Note: you may need to restart the kernel to use updated packages.\n"
     ]
    },
    {
     "name": "stderr",
     "output_type": "stream",
     "text": [
      "\n",
      "[notice] A new release of pip is available: 24.2 -> 24.3.1\n",
      "[notice] To update, run: python.exe -m pip install --upgrade pip\n"
     ]
    }
   ],
   "source": [
    "%pip install python-pptx\n",
    "\n",
    "from pptx import Presentation\n",
    "from pptx.util import Inches\n",
    "import pandas as pd\n",
    "import matplotlib.pyplot as plt"
   ]
  },
  {
   "cell_type": "code",
   "execution_count": 31,
   "metadata": {},
   "outputs": [],
   "source": [
    "# Sample data for the dataframe\n",
    "data = {\n",
    "\t'Category': ['A', 'B'],\n",
    "\t'Correct Answers (%)': [75, 85]\n",
    "}\n",
    "\n",
    "# Create a dataframe\n",
    "df = pd.DataFrame(data)\n",
    "\n",
    "# Create a bar chart\n",
    "plt.bar(df['Category'], df['Correct Answers (%)'], color=['blue', 'green'])\n",
    "plt.title(\"Knowledge of Stocks During COVID-19\")\n",
    "plt.ylabel(\"Correct Answers (%)\")\n",
    "plt.savefig(\"chart.png\")\n",
    "plt.close()\n",
    "\n",
    "# Create a presentation object\n",
    "prs = Presentation()\n",
    "\n",
    "# Add slide for graph\n",
    "slide = prs.slides.add_slide(prs.slide_layouts[5])\n",
    "title = slide.shapes.title\n",
    "title.text = \"Stock Knowledge Comparison\"\n",
    "pic = slide.shapes.add_picture(\"chart.png\", Inches(1), Inches(1), width=Inches(8), height=Inches(4.5))\n",
    "\n",
    "# Save the presentation\n",
    "prs.save(\"Are_You_Smarter_Than_a_5th_Grader.pptx\")\n"
   ]
  }
 ],
 "metadata": {
  "kernelspec": {
   "display_name": "Python 3",
   "language": "python",
   "name": "python3"
  },
  "language_info": {
   "codemirror_mode": {
    "name": "ipython",
    "version": 3
   },
   "file_extension": ".py",
   "mimetype": "text/x-python",
   "name": "python",
   "nbconvert_exporter": "python",
   "pygments_lexer": "ipython3",
   "version": "3.13.0"
  }
 },
 "nbformat": 4,
 "nbformat_minor": 2
}
